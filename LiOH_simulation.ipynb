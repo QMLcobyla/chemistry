{
 "cells": [
  {
   "cell_type": "code",
   "execution_count": 1,
   "metadata": {},
   "outputs": [],
   "source": [
    "from qiskit import QuantumCircuit, ClassicalRegister, QuantumRegister\n",
    "from qiskit.circuit import Parameter\n",
    "from qiskit_aer.primitives import Sampler, Estimator\n",
    "from qiskit_algorithms.optimizers import SLSQP, SPSA\n",
    "import pylatexenc\n",
    "from qiskit_ibm_runtime.fake_provider import FakeKolkata\n",
    "from qiskit.circuit.library import EfficientSU2\n",
    "import numpy as np\n",
    "import qiskit_nature\n",
    "from qiskit_algorithms import NumPyMinimumEigensolver, VQE\n",
    "from qiskit_algorithms.optimizers import SLSQP\n",
    "from qiskit_nature.second_q.transformers import FreezeCoreTransformer\n",
    "from qiskit_nature.second_q.formats.molecule_info import MoleculeInfo\n",
    "from qiskit_nature.second_q.mappers import ParityMapper, JordanWignerMapper\n",
    "from qiskit_nature.second_q.circuit.library import UCCSD, HartreeFock\n",
    "from qiskit_nature.second_q.drivers import PySCFDriver\n",
    "import matplotlib.pyplot as plt\n",
    "from qiskit.circuit.library import EfficientSU2\n",
    "from qiskit_aer.primitives import Estimator\n",
    "from qiskit_aer.noise import NoiseModel\n",
    "from qiskit_algorithms.optimizers import SLSQP, SPSA, COBYLA\n",
    "from qiskit_aer.noise import NoiseModel\n",
    "\n",
    "import pandas as pd\n",
    "import matplotlib.pyplot as plt\n",
    "\n",
    "from moleculemanager import MoleculeManager"
   ]
  },
  {
   "cell_type": "code",
   "execution_count": 2,
   "metadata": {},
   "outputs": [],
   "source": [
    "LiOH_info = MoleculeInfo(\n",
    "        symbols=[\"Li\", \"O\", \"H\"],\n",
    "        coords=([-1.0, 0.0, 0.0], [0.0, 0.0, 0.0], [1.0, 0.0, 0.0]),\n",
    "        multiplicity=1,  # = 2*spin + 1\n",
    "        charge=0,\n",
    "    )\n",
    "\n",
    "LiOH = MoleculeManager(LiOH_info)"
   ]
  },
  {
   "cell_type": "markdown",
   "metadata": {},
   "source": [
    "## wide approximation"
   ]
  },
  {
   "cell_type": "code",
   "execution_count": 3,
   "metadata": {},
   "outputs": [
    {
     "name": "stdout",
     "output_type": "stream",
     "text": [
      "=== GROUND STATE ENERGY ===\n",
      " \n",
      "* Electronic ground state energy (Hartree): -99.278186094361\n",
      "  - computed part:      -22.34257524779\n",
      "  - FreezeCoreTransformer extracted energy part: -76.93561084657\n",
      "~ Nuclear repulsion energy (Hartree): 17.72743656582\n",
      "> Total ground state energy (Hartree): -81.550749528541\n",
      " \n",
      "=== MEASURED OBSERVABLES ===\n",
      " \n",
      " \n",
      "=== DIPOLE MOMENTS ===\n",
      " \n",
      "~ Nuclear dipole moment (a.u.): [-3.77945225  0.0  0.0]\n",
      " \n",
      "-81.55074952854073\n",
      "E = -81.55074952854073\n"
     ]
    }
   ],
   "source": [
    "E = LiOH.FindExactEnergy()\n",
    "print(f'{E = }')"
   ]
  },
  {
   "cell_type": "code",
   "execution_count": 6,
   "metadata": {},
   "outputs": [
    {
     "name": "stdout",
     "output_type": "stream",
     "text": [
      "\n",
      "\n",
      "= = = = = = = = = = = = |dist = 1.0| = = = = = = = = = = = = = = =\n",
      "\n",
      "FindEnergyIdeal started, 10:34:52\n",
      "=== GROUND STATE ENERGY ===\n",
      " \n",
      "* Electronic ground state energy (Hartree): -99.278186094361\n",
      "  - computed part:      -22.34257524779\n",
      "  - FreezeCoreTransformer extracted energy part: -76.93561084657\n",
      "~ Nuclear repulsion energy (Hartree): 17.72743656582\n",
      "> Total ground state energy (Hartree): -81.550749528541\n",
      " \n",
      "=== MEASURED OBSERVABLES ===\n",
      " \n",
      " \n",
      "=== DIPOLE MOMENTS ===\n",
      " \n",
      "~ Nuclear dipole moment (a.u.): [-3.77945225  0.0  0.0]\n",
      " \n",
      "-81.55074952854082\n",
      "SUMMARY: for dist = 1.0 we get E = -81.55074952854082\n",
      "\n",
      "\n",
      "= = = = = = = = = = = = |dist = 3.25| = = = = = = = = = = = = = = =\n",
      "\n",
      "FindEnergyIdeal started, 10:35:32\n",
      "=== GROUND STATE ENERGY ===\n",
      " \n",
      "* Electronic ground state energy (Hartree): -90.227012818468\n",
      "  - computed part:      -20.40368399054\n",
      "  - FreezeCoreTransformer extracted energy part: -69.823328827928\n",
      "~ Nuclear repulsion energy (Hartree): 8.514724715075\n",
      "> Total ground state energy (Hartree): -81.712288103394\n",
      " \n",
      "=== MEASURED OBSERVABLES ===\n",
      " \n",
      " \n",
      "=== DIPOLE MOMENTS ===\n",
      " \n",
      "~ Nuclear dipole moment (a.u.): [-16.53510359  0.0  0.0]\n",
      " \n",
      "-81.71228810339367\n",
      "SUMMARY: for dist = 3.25 we get E = -81.71228810339367\n",
      "\n",
      "\n",
      "= = = = = = = = = = = = |dist = 5.5| = = = = = = = = = = = = = = =\n",
      "\n",
      "FindEnergyIdeal started, 10:36:30\n",
      "=== GROUND STATE ENERGY ===\n",
      " \n",
      "* Electronic ground state energy (Hartree): -88.493452566295\n",
      "  - computed part:      -19.95507914007\n",
      "  - FreezeCoreTransformer extracted energy part: -68.538373426225\n",
      "~ Nuclear repulsion energy (Hartree): 6.786790243547\n",
      "> Total ground state energy (Hartree): -81.706662322747\n",
      " \n",
      "=== MEASURED OBSERVABLES ===\n",
      " \n",
      " \n",
      "=== DIPOLE MOMENTS ===\n",
      " \n",
      "~ Nuclear dipole moment (a.u.): [-29.29075493  0.0  0.0]\n",
      " \n",
      "-81.70666232274746\n",
      "SUMMARY: for dist = 5.5 we get E = -81.70666232274746\n",
      "\n",
      "\n",
      "= = = = = = = = = = = = |dist = 7.75| = = = = = = = = = = = = = = =\n",
      "\n",
      "FindEnergyIdeal started, 10:38:06\n",
      "=== GROUND STATE ENERGY ===\n",
      " \n",
      "* Electronic ground state energy (Hartree): -87.760189288435\n",
      "  - computed part:      -19.766726513301\n",
      "  - FreezeCoreTransformer extracted energy part: -67.993462775134\n",
      "~ Nuclear repulsion energy (Hartree): 6.053592204552\n",
      "> Total ground state energy (Hartree): -81.706597083883\n",
      " \n",
      "=== MEASURED OBSERVABLES ===\n",
      " \n",
      " \n",
      "=== DIPOLE MOMENTS ===\n",
      " \n",
      "~ Nuclear dipole moment (a.u.): [-42.04640627  0.0  0.0]\n",
      " \n",
      "-81.70659708388294\n",
      "SUMMARY: for dist = 7.75 we get E = -81.70659708388294\n",
      "\n",
      "\n",
      "= = = = = = = = = = = = |dist = 10.0| = = = = = = = = = = = = = = =\n",
      "\n",
      "FindEnergyIdeal started, 10:39:25\n",
      "=== GROUND STATE ENERGY ===\n",
      " \n",
      "* Electronic ground state energy (Hartree): -87.347849390732\n",
      "  - computed part:      -19.669867229994\n",
      "  - FreezeCoreTransformer extracted energy part: -67.677982160738\n",
      "~ Nuclear repulsion energy (Hartree): 5.647764051092\n",
      "> Total ground state energy (Hartree): -81.70008533964\n",
      " \n",
      "=== MEASURED OBSERVABLES ===\n",
      " \n",
      " \n",
      "=== DIPOLE MOMENTS ===\n",
      " \n",
      "~ Nuclear dipole moment (a.u.): [-54.80205761  0.0  0.0]\n",
      " \n",
      "-81.70008533964038\n",
      "SUMMARY: for dist = 10.0 we get E = -81.70008533964038\n"
     ]
    }
   ],
   "source": [
    "LiOH_dist = np.linspace(1, 10, 5)\n",
    "\n",
    "LiOH_energies = []\n",
    "\n",
    "for dist in LiOH_dist:\n",
    "  print(f'\\n\\n= = = = = = = = = = = = |{dist = }| = = = = = = = = = = = = = = =\\n')\n",
    "  LiOH.SetAtomCoords(([-dist, 0.0, 0.0], [0.0, 0.0, 0.0], [1.0, 0.0, 0.0]))\n",
    "  # E = LiOH.FindEnergyIdeal(print_energy=False, print_ansatz=False, print_circuit_info=False)\n",
    "  E = LiOH.FindExactEnergy(debug_mode=True)\n",
    "  print(f'SUMMARY: for {dist = } we get {E = }')\n",
    "  LiOH_energies.append(E)"
   ]
  },
  {
   "cell_type": "code",
   "execution_count": null,
   "metadata": {},
   "outputs": [],
   "source": [
    "# LiOH_dist = np.linspace(1, 10, 5)\n",
    "\n",
    "# LiOH_energies = []\n",
    "\n",
    "# for dist in LiOH_dist:\n",
    "#   LiOH.SetAtomCoords(([-dist, 0.0, 0.0], [0.0, 0.0, 0.0], [1.0, 0.0, 0.0]))\n",
    "#   E = LiOH.FindEnergyIdeal(print_energy=False, print_ansatz=False, print_circuit_info=False)\n",
    "#   print(f'for {dist = } we get {E = }')\n",
    "#   LiOH_energies.append(E)"
   ]
  },
  {
   "cell_type": "code",
   "execution_count": 7,
   "metadata": {},
   "outputs": [
    {
     "name": "stderr",
     "output_type": "stream",
     "text": [
      "No artists with labels found to put in legend.  Note that artists whose label start with an underscore are ignored when legend() is called with no argument.\n"
     ]
    },
    {
     "data": {
      "image/png": "[encoded data removed]",
      "text/plain": [
       "<Figure size 1152x576 with 1 Axes>"
      ]
     },
     "metadata": {
      "needs_background": "light"
     },
     "output_type": "display_data"
    }
   ],
   "source": [
    "import matplotlib.pyplot as plt\n",
    "\n",
    "plt.figure(figsize=(16, 8))  \n",
    "plt.plot(LiOH_dist, LiOH_energies, linestyle='--')\n",
    "plt.scatter(LiOH_dist, LiOH_energies, color='r')\n",
    "plt.xlabel('Li-OH atomic distance, [measurement]')\n",
    "plt.ylabel('LiOH E (summed)')\n",
    "plt.title('LiOH energy on Li-OH distances')\n",
    "plt.legend()\n",
    "plt.grid()\n",
    "plt.savefig('plots/LiOH_distances_left.png')\n",
    "plt.show()"
   ]
  },
  {
   "cell_type": "code",
   "execution_count": 8,
   "metadata": {},
   "outputs": [],
   "source": [
    "import pandas as pd\n",
    "\n",
    "LiH_distance_experiment_dataframe = pd.DataFrame({\n",
    "    'distance': LiOH_dist,\n",
    "    'LiOH_E': LiOH_energies,\n",
    "})\n",
    "LiH_distance_experiment_dataframe.to_csv('./data/LiOH_wide_range_approx_NO_VQE.csv')"
   ]
  },
  {
   "cell_type": "code",
   "execution_count": null,
   "metadata": {},
   "outputs": [],
   "source": []
  },
  {
   "cell_type": "markdown",
   "metadata": {},
   "source": [
    "## narrow approximation"
   ]
  }
 ],
 "metadata": {
  "kernelspec": {
   "display_name": "base",
   "language": "python",
   "name": "python3"
  },
  "language_info": {
   "codemirror_mode": {
    "name": "ipython",
    "version": 3
   },
   "file_extension": ".py",
   "mimetype": "text/x-python",
   "name": "python",
   "nbconvert_exporter": "python",
   "pygments_lexer": "ipython3",
   "version": "3.9.12"
  }
 },
 "nbformat": 4,
 "nbformat_minor": 2
}
