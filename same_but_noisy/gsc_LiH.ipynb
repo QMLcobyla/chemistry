{
  "cells": [
    {
      "cell_type": "code",
      "execution_count": 1,
      "metadata": {
        "colab": {
          "base_uri": "https://localhost:8080/"
        },
        "collapsed": true,
        "id": "uWpRJw4QnMXi",
        "outputId": "f84ea914-fdb6-4e0f-9042-52b13aa0b3f5"
      },
      "outputs": [],
      "source": [
        "try:\n",
        "  import qiskit\n",
        "  import qiskit_aer\n",
        "  import qiskit_nature\n",
        "  import qiskit_ibm_runtime\n",
        "  import pyscf\n",
        "  import pylatexenc\n",
        "except:\n",
        "  !pip install qiskit qiskit-aer qiskit-ibm-runtime qiskit_nature pyscf pylatexenc\n",
        "\n",
        "# General imports\n",
        "import numpy as np\n",
        "\n",
        "# Qiskit Runtime\n",
        "from qiskit.primitives import Estimator\n",
        "\n",
        "# SciPy minimizer routine\n",
        "from scipy.optimize import minimize\n",
        "\n",
        "# Plotting functions\n",
        "import matplotlib.pyplot as plt"
      ]
    },
    {
      "cell_type": "code",
      "execution_count": 2,
      "metadata": {
        "id": "CZ9lYh9BqkTP"
      },
      "outputs": [],
      "source": [
        "from qiskit_nature.units import DistanceUnit\n",
        "from qiskit_nature.second_q.drivers import PySCFDriver\n",
        "from qiskit_nature.second_q.formats.molecule_info import MoleculeInfo\n",
        "from qiskit_nature.second_q.transformers import FreezeCoreTransformer\n",
        "from qiskit_nature.second_q.mappers import ParityMapper, JordanWignerMapper, BravyiKitaevMapper, InterleavedQubitMapper\n",
        "from qiskit_nature.second_q.circuit.library import HartreeFock, UCCSD\n",
        "from qiskit_algorithms.optimizers import SLSQP, SPSA, COBYLA\n",
        "from qiskit_algorithms import NumPyMinimumEigensolver, VQE\n",
        "from qiskit_aer.primitives import Sampler, Estimator\n",
        "from qiskit_aer.noise import NoiseModel\n",
        "from qiskit_ibm_runtime.fake_provider import FakeKolkata\n",
        "\n",
        "\n",
        "\n",
        "from datetime import datetime\n"
      ]
    },
    {
      "cell_type": "code",
      "execution_count": 3,
      "metadata": {},
      "outputs": [],
      "source": [
        "dist = 1.0"
      ]
    },
    {
      "cell_type": "code",
      "execution_count": 4,
      "metadata": {
        "id": "vSq1mW_Uoxtg"
      },
      "outputs": [],
      "source": [
        "# IMPORTANT\n",
        "def draw_orbitals(problem):\n",
        "    # Draw orbitals (method provided by Max)\n",
        "    print(f'Number of particles : {problem.num_particles}')\n",
        "    print(f'Number of spatial orbitals : {problem.num_spatial_orbitals}')\n",
        "    print(f'Orbital energies : {problem.orbital_energies}')\n",
        "\n",
        "    fig, ax = plt.subplots(1, 1, figsize=(16, 10))\n",
        "\n",
        "    for i in range(problem.num_spatial_orbitals):\n",
        "        if problem.orbital_occupations[i] == 1:\n",
        "            co = 'tab:blue'\n",
        "        else:\n",
        "            co = 'tab:green'\n",
        "\n",
        "        ax.scatter(i,np.log10(np.abs(problem.orbital_energies[i])), s=15, c=co, marker='o')\n",
        "\n",
        "    ax.set_xlabel('Orbital', fontsize=15)\n",
        "    ax.set_ylabel(r'$\\log\\left(|E|\\right)$', fontsize=15)\n",
        "\n",
        "    ax.scatter(-2,2,s=15, c='tab:blue', marker='o', label='Occupied orbitals')\n",
        "    ax.scatter(-2,2,s=15, c='tab:green', marker='o', label='Empty orbitals')\n",
        "    ax.set_xlim(-0.2,problem.num_spatial_orbitals+0.2)\n",
        "    ax.set_ylim(np.amin(np.log10(np.abs(problem.orbital_energies)))-0.2,\n",
        "                np.amax(np.log10(np.abs(problem.orbital_energies)))+0.2)\n",
        "    ax.legend(loc='best', fontsize=15)\n",
        "\n",
        "def get_freezed_problem(properties, indexes = None):\n",
        "    # Shortcut for the problem definition\n",
        "    return FreezeCoreTransformer(\n",
        "        freeze_core=True, remove_orbitals=indexes\n",
        "    ).transform(properties)\n",
        "\n"
      ]
    },
    {
      "cell_type": "markdown",
      "metadata": {},
      "source": [
        "## other funcs copied"
      ]
    },
    {
      "cell_type": "code",
      "execution_count": 5,
      "metadata": {},
      "outputs": [],
      "source": [
        "def exact_solver(qubit_op, problem):\n",
        "  sol = NumPyMinimumEigensolver().compute_minimum_eigenvalue(qubit_op)\n",
        "  result = problem.interpret(sol)\n",
        "  return result"
      ]
    },
    {
      "cell_type": "markdown",
      "metadata": {},
      "source": [
        "## func for convenient experimental loop"
      ]
    },
    {
      "cell_type": "code",
      "execution_count": 6,
      "metadata": {
        "id": "S_R9V4y5jseh"
      },
      "outputs": [],
      "source": [
        "def Experiment(\n",
        "  molecule,\n",
        "  orbitals_to_fix,\n",
        "  optimizer=COBYLA(maxiter=15, tol=0.0001),\n",
        "  output_info=True,\n",
        "  if_draw_orbitals=False,\n",
        "):\n",
        "  '''\n",
        "  returns pair of (exact energy, vqe energy)\n",
        "  '''\n",
        "  print(f'= = = = = = = = = = = = = = = = = = = = = = = =\\nExperiment started: {(datetime.now().time()).strftime(\"%H:%M:%S\")}')  \n",
        "\n",
        "  molecule = \"\".join(molecule)[:-1]\n",
        "  driver = PySCFDriver(\n",
        "      atom=molecule,\n",
        "      unit=DistanceUnit.ANGSTROM,\n",
        "      basis='sto3g',\n",
        "      spin=0\n",
        "  )\n",
        "  properties_molecule = driver.run()\n",
        "    \n",
        "  problem = get_freezed_problem(properties_molecule, orbitals_to_fix)\n",
        "\n",
        "  if (if_draw_orbitals):\n",
        "    draw_orbitals(problem)\n",
        "  if (output_info):\n",
        "    print('. . . . . . . . . . . . . . . . . . .\\n')\n",
        "  \n",
        "  # exact solver\n",
        "  device = FakeKolkata()\n",
        "  coupling_map = device.configuration().coupling_map\n",
        "  noise_model = NoiseModel.from_backend(device)\n",
        "  estimator = Estimator(\n",
        "        backend_options={\"coupling_map\": coupling_map, \"noise_model\": noise_model}\n",
        "    )\n",
        "  num_particles = problem.num_particles\n",
        "  num_spatial_orbitals = problem.num_spatial_orbitals\n",
        "  mapper = ParityMapper(num_particles=num_particles)\n",
        "  # mapper = JordanWignerMapper()\n",
        "  qubit_op = mapper.map(problem.second_q_ops()[0])\n",
        "  \n",
        "  exact_result = exact_solver(qubit_op, problem)\n",
        "  if (output_info):\n",
        "    print(exact_result)\n",
        "    print(f'Exact solver done: {(datetime.now().time()).strftime(\"%H:%M:%S\")}')\n",
        "  \n",
        "  \n",
        "  # VQE\n",
        "  init_state = HartreeFock(num_spatial_orbitals, num_particles, mapper)\n",
        "  # TODO: maybe try EfficientSU2 instead of UCCSD\n",
        "  ansatz = UCCSD(\n",
        "      num_spatial_orbitals, num_particles, mapper, initial_state=init_state\n",
        "  )\n",
        "  if (output_info):\n",
        "    current_time = datetime.now().time()\n",
        "    print(f'ansatz initialized, {current_time.strftime(\"%H:%M:%S\")}')\n",
        "    print(f'ansatz.depth = {ansatz.depth()}')\n",
        "    print(f'num of qubits = {ansatz.num_qubits}')\n",
        "  \n",
        "  vqe = VQE(\n",
        "        estimator,\n",
        "        ansatz,\n",
        "        optimizer,\n",
        "        initial_point=[0] * ansatz.num_parameters,\n",
        "    )\n",
        "  vqe_calc = vqe.compute_minimum_eigenvalue(qubit_op)\n",
        "  if (output_info):\n",
        "    current_time = datetime.now().time()\n",
        "    print(f'VQE compute_minimum_eigenvalue done, {current_time.strftime(\"%H:%M:%S\")}')\n",
        "\n",
        "  vqe_result = problem.interpret(vqe_calc)\n",
        "  if (output_info):\n",
        "    print(\n",
        "      f\"VQE Result: {vqe_result}\\n\",\n",
        "      f\"Exact Energy: {exact_result}\\n\"\n",
        "    )\n",
        "  return (exact_result, vqe_result)"
      ]
    },
    {
      "cell_type": "code",
      "execution_count": 7,
      "metadata": {},
      "outputs": [
        {
          "name": "stdout",
          "output_type": "stream",
          "text": [
            "dist = np.float64(0.5)\n",
            "= = = = = = = = = = = = = = = = = = = = = = = =\n",
            "Experiment started: 21:58:43\n",
            ". . . . . . . . . . . . . . . . . . .\n",
            "\n"
          ]
        },
        {
          "name": "stderr",
          "output_type": "stream",
          "text": [
            "/tmp/ipykernel_2798/2831500864.py:30: DeprecationWarning: V1 fake backends are deprecated as of qiskit-ibm-runtime 0.24 and will be removed no sooner than 3 months after the release date. Please use V2 fake backends instead.\n",
            "  device = FakeKolkata()\n",
            "/tmp/ipykernel_2798/2015473866.py:12: DeprecationWarning: Option approximation=False is deprecated as of qiskit-aer 0.13. It will be removed no earlier than 3 months after the release date. Instead, use BackendEstimator from qiskit.primitives.\n",
            "  exact_val, vqe_val = Experiment(molecule=molecule, optimizer=COBYLA(maxiter=10, tol=0.0001), orbitals_to_fix=None, if_draw_orbitals=False)\n"
          ]
        },
        {
          "name": "stdout",
          "output_type": "stream",
          "text": [
            "=== GROUND STATE ENERGY ===\n",
            " \n",
            "* Electronic ground state energy (Hartree): -10.222973145334\n",
            "  - computed part:      -0.987444905498\n",
            "  - FreezeCoreTransformer extracted energy part: -9.235528239836\n",
            "~ Nuclear repulsion energy (Hartree): 3.17506326552\n",
            "> Total ground state energy (Hartree): -7.047909879814\n",
            " \n",
            "=== MEASURED OBSERVABLES ===\n",
            " \n",
            " \n",
            "=== DIPOLE MOMENTS ===\n",
            " \n",
            "~ Nuclear dipole moment (a.u.): [0.94486306  0.0  0.0]\n",
            " \n",
            "Exact solver done: 21:58:49\n",
            "ansatz initialized, 21:58:49\n",
            "ansatz.depth = 1\n",
            "num of qubits = 8\n"
          ]
        }
      ],
      "source": [
        "lioh_dist_domain = np.linspace(0.5, 1.5, 10)\n",
        "\n",
        "exact_energies = []\n",
        "vqe_energies = []\n",
        "\n",
        "for dist in lioh_dist_domain:\n",
        "  molecule = [\n",
        "    'Li .0 .0 .0;',\n",
        "    'H '+str(dist)+' .0 .0;',\n",
        "    ]\n",
        "  print(f\"{dist = }\")\n",
        "  exact_val, vqe_val = Experiment(molecule=molecule, optimizer=COBYLA(maxiter=10, tol=0.0001), orbitals_to_fix=None, if_draw_orbitals=False)\n",
        "  exact_energies.append(exact_val)\n",
        "  vqe_energies.append(vqe_val)\n",
        "  \n",
        "  "
      ]
    },
    {
      "cell_type": "code",
      "execution_count": null,
      "metadata": {},
      "outputs": [],
      "source": [
        "exact_energies_fixed = []\n",
        "vqe_energies_fixed = []\n",
        "for el, vl in zip(exact_energies,vqe_energies):\n",
        "  exact_energies_fixed.append(el.electronic_energies[0] + el.nuclear_repulsion_energy)\n",
        "  vqe_energies_fixed.append(vl.electronic_energies[0] + vl.nuclear_repulsion_energy)\n",
        "  "
      ]
    },
    {
      "cell_type": "code",
      "execution_count": null,
      "metadata": {},
      "outputs": [
        {
          "data": {
            "image/png": "[encoded data removed]",
            "text/plain": [
              "<Figure size 720x432 with 1 Axes>"
            ]
          },
          "metadata": {
            "needs_background": "light"
          },
          "output_type": "display_data"
        }
      ],
      "source": [
        "import matplotlib.pyplot as plt\n",
        "\n",
        "index = 0\n",
        "\n",
        "plt.figure(figsize=(10, 6))\n",
        "plt.plot(lioh_dist_domain[index:], exact_energies_fixed[index:], label='Exact solver', linestyle='-', color='b')\n",
        "plt.plot(lioh_dist_domain[index:], vqe_energies_fixed[index:], label='VQE', linestyle='dashdot', color='r')\n",
        "plt.title('$H_2$ (noisy)')\n",
        "plt.grid()\n",
        "plt.legend(loc='best')\n",
        "plt.show()"
      ]
    },
    {
      "cell_type": "code",
      "execution_count": null,
      "metadata": {},
      "outputs": [
        {
          "data": {
            "image/png": "[encoded data removed]",
            "text/plain": [
              "<Figure size 432x288 with 1 Axes>"
            ]
          },
          "metadata": {
            "needs_background": "light"
          },
          "output_type": "display_data"
        }
      ],
      "source": [
        "# The error commited at every step remain small\n",
        "\n",
        "fig, ax = plt.subplots()\n",
        "# ax.plot(lioh_dist_domain,np.log10(np.abs([vqe_energies[i] - exact_energies_fixed[i] for i in range(len(lioh_dist_domain))])),'+--')\n",
        "ax.plot(lioh_dist_domain,(np.abs([vqe_energies[i].electronic_energies[0] - exact_energies[i].electronic_energies[0] for i in range(len(lioh_dist_domain))])),'+--')\n",
        "\n",
        "ax.set_xlabel(\"Distance\")\n",
        "ax.set_ylabel(\"Error\")\n",
        "plt.title('$H_2$ VQE error (noisy)')\n",
        "\n",
        "plt.draw()"
      ]
    },
    {
      "cell_type": "code",
      "execution_count": null,
      "metadata": {},
      "outputs": [
        {
          "data": {
            "text/plain": [
              "np.float64(-1.1373057587800393)"
            ]
          },
          "execution_count": 23,
          "metadata": {},
          "output_type": "execute_result"
        }
      ],
      "source": [
        "np.min(exact_energies_fixed)"
      ]
    },
    {
      "cell_type": "code",
      "execution_count": null,
      "metadata": {},
      "outputs": [],
      "source": []
    }
  ],
  "metadata": {
    "accelerator": "GPU",
    "colab": {
      "gpuType": "T4",
      "provenance": []
    },
    "kernelspec": {
      "display_name": "Python 3",
      "name": "python3"
    },
    "language_info": {
      "codemirror_mode": {
        "name": "ipython",
        "version": 3
      },
      "file_extension": ".py",
      "mimetype": "text/x-python",
      "name": "python",
      "nbconvert_exporter": "python",
      "pygments_lexer": "ipython3",
      "version": "3.10.12"
    }
  },
  "nbformat": 4,
  "nbformat_minor": 0
}
