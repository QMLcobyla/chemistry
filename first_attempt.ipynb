{
  "cells": [
    {
      "cell_type": "markdown",
      "metadata": {
        "id": "W4rzMnZ_wDx3"
      },
      "source": [
        "# Imports & random seed\n"
      ]
    },
    {
      "cell_type": "code",
      "execution_count": 46,
      "metadata": {
        "colab": {
          "base_uri": "https://localhost:8080/"
        },
        "id": "D1o6IE67Rs2f",
        "outputId": "8f14f244-4db8-4d9b-b20e-eedf5764330f"
      },
      "outputs": [],
      "source": [
        "# !pip install qiskit\n",
        "# !pip install qiskit_aer\n",
        "# !pip install qiskit_algorithms\n",
        "# !pip install pylatexenc\n",
        "# !pip install qiskit_ibm_runtime\n",
        "# !pip install qiskit_nature qiskit qiskit.algorithms qiskit_aer\n",
        "# !pip install pyscf\n"
      ]
    },
    {
      "cell_type": "code",
      "execution_count": 1,
      "metadata": {
        "id": "jNJtZC-YwpGM"
      },
      "outputs": [],
      "source": [
        "from qiskit import QuantumCircuit, ClassicalRegister, QuantumRegister\n",
        "from qiskit.circuit import Parameter\n",
        "from qiskit_aer.primitives import Sampler, Estimator\n",
        "from qiskit_algorithms.optimizers import SLSQP, SPSA\n",
        "import pylatexenc\n",
        "from qiskit_ibm_runtime.fake_provider import FakeKolkata\n",
        "from qiskit.circuit.library import EfficientSU2\n",
        "import numpy as np\n",
        "import qiskit_nature\n",
        "from qiskit_algorithms import NumPyMinimumEigensolver, VQE\n",
        "from qiskit_algorithms.optimizers import SLSQP\n",
        "from qiskit_nature.second_q.transformers import FreezeCoreTransformer\n",
        "from qiskit_nature.second_q.formats.molecule_info import MoleculeInfo\n",
        "from qiskit_nature.second_q.mappers import ParityMapper, JordanWignerMapper\n",
        "from qiskit_nature.second_q.circuit.library import UCCSD, HartreeFock\n",
        "from qiskit_nature.second_q.drivers import PySCFDriver\n",
        "import matplotlib.pyplot as plt\n",
        "from qiskit.circuit.library import EfficientSU2\n",
        "from qiskit_aer.primitives import Estimator\n",
        "from qiskit_aer.noise import NoiseModel\n",
        "from qiskit_algorithms.optimizers import SLSQP, SPSA, COBYLA\n",
        "from qiskit_aer.noise import NoiseModel\n",
        "\n",
        "\n",
        "np.random.seed(999999)"
      ]
    },
    {
      "cell_type": "markdown",
      "metadata": {
        "id": "HFliqr5jzuSS"
      },
      "source": [
        "# Used functions"
      ]
    },
    {
      "cell_type": "code",
      "execution_count": 2,
      "metadata": {
        "id": "hMZFNbnEzoyl"
      },
      "outputs": [],
      "source": [
        "def get_var_form(params):\n",
        "    qr = QuantumRegister(1, name=\"q\")\n",
        "    cr = ClassicalRegister(1, name=\"c\")\n",
        "    qc = QuantumCircuit(qr, cr)\n",
        "    qc.u(params[0], params[1], params[2], qr[0])\n",
        "    qc.measure(qr, cr[0])\n",
        "    return qc"
      ]
    },
    {
      "cell_type": "code",
      "execution_count": 3,
      "metadata": {
        "id": "ljtdJaCCEl2b"
      },
      "outputs": [],
      "source": [
        "def get_qubit_op(molecule):\n",
        "    '''\n",
        "    Uses ParityMapper\n",
        "    '''\n",
        "    driver = PySCFDriver.from_molecule(molecule)\n",
        "    properties = driver.run()\n",
        "    problem = FreezeCoreTransformer(\n",
        "        freeze_core=True, remove_orbitals=[-3, -2]\n",
        "    ).transform(properties)\n",
        "\n",
        "    num_particles = problem.num_particles\n",
        "    num_spatial_orbitals = problem.num_spatial_orbitals\n",
        "\n",
        "    mapper = ParityMapper(num_particles=num_particles)\n",
        "    # mapper = JordanWignerMapper()\n",
        "    qubit_op = mapper.map(problem.second_q_ops()[0])\n",
        "    return qubit_op, num_particles, num_spatial_orbitals, problem, mapper"
      ]
    },
    {
      "cell_type": "code",
      "execution_count": 4,
      "metadata": {
        "id": "E3PWDhqFFLFg"
      },
      "outputs": [],
      "source": [
        "def exact_solver(qubit_op, problem):\n",
        "    sol = NumPyMinimumEigensolver().compute_minimum_eigenvalue(qubit_op)\n",
        "    result = problem.interpret(sol)\n",
        "    return result"
      ]
    },
    {
      "cell_type": "markdown",
      "metadata": {
        "id": "qGPeNb3DzxfU"
      },
      "source": [
        "# Class MoleculeManager"
      ]
    },
    {
      "cell_type": "code",
      "execution_count": 12,
      "metadata": {
        "id": "nX5sDg0uxXxM"
      },
      "outputs": [],
      "source": [
        "class MoleculeManager():\n",
        "  '''\n",
        "  MoleculeManager\\n\n",
        "\n",
        "  '''\n",
        "  def __init__(\n",
        "      self,\n",
        "      molecule: MoleculeInfo,\n",
        "      optimizer=COBYLA(maxiter=500, tol=0.0001),\n",
        "\n",
        "  ):\n",
        "    self.molecule = molecule\n",
        "    self.optimizer = optimizer\n",
        "\n",
        "\n",
        "  def SetDualAtomDist(self, dist: float):\n",
        "    '''\n",
        "    Sets a distance between atoms of a molecule of two atoms\n",
        "    '''\n",
        "    self.molecule.coords=([0.0, 0.0, 0.0], [dist, 0.0, 0.0])\n",
        "\n",
        "\n",
        "  def SetAtomCoords(self, coords):\n",
        "    '''\n",
        "    Sets a distance between atoms of a molecule of two atoms\n",
        "    '''\n",
        "    self.molecule.coords = coords\n",
        "\n",
        "\n",
        "  def print_interatomic_distance(self):\n",
        "    print(f\"Interatomic Distance:\")\n",
        "    for atom1_idx in range(len(self.molecule.coords) - 1):\n",
        "      for atom2_idx in range(atom1_idx + 1, len(self.molecule.coords)):\n",
        "        vec = np.array(self.molecule.coords[atom1_idx]) - np.array(self.molecule.coords[atom2_idx])\n",
        "        print('|', self.molecule.symbols[atom1_idx],', ', self.molecule.symbols[atom2_idx],'| = ', round(np.linalg.norm(vec), 5))\n",
        "\n",
        "\n",
        "\n",
        "  def FindEnergyIdeal(self, print_energy=True, print_ansatz=True, print_circuit_info=True):\n",
        "    '''\n",
        "    returns vqe_result -- ground state energy value (float)\n",
        "    '''\n",
        "\n",
        "    exact_energies = []\n",
        "    vqe_energies = []\n",
        "    optimizer = SLSQP(maxiter=10)\n",
        "    noiseless_estimator = Estimator(approximation=True)\n",
        "    (qubit_op, num_particles, num_spatial_orbitals, problem, mapper) = get_qubit_op(self.molecule)\n",
        "\n",
        "    result = exact_solver(qubit_op, problem)\n",
        "    exact_energies.append(result.total_energies[0].real)\n",
        "    init_state = HartreeFock(num_spatial_orbitals, num_particles, mapper)\n",
        "    ansatz = UCCSD(\n",
        "        num_spatial_orbitals, num_particles, mapper, initial_state=init_state\n",
        "    )\n",
        "    vqe = VQE(\n",
        "        noiseless_estimator,\n",
        "        ansatz,\n",
        "        optimizer,\n",
        "        initial_point=[0] * ansatz.num_parameters,\n",
        "    )\n",
        "    vqe_calc = vqe.compute_minimum_eigenvalue(qubit_op)\n",
        "    vqe_result = problem.interpret(vqe_calc).total_energies[0].real\n",
        "    vqe_energies.append(vqe_result)\n",
        "    \n",
        "    if (print_ansatz):\n",
        "      display(ansatz.decompose().decompose().draw(fold=-1))\n",
        "    if (print_circuit_info):\n",
        "      print(f'ansatz.depth = {ansatz.depth()}')\n",
        "      print(f'num of qubits = {ansatz.num_qubits}')\n",
        "    if (print_energy):\n",
        "      print(result)\n",
        "      print(\n",
        "          f\"### TODO! what's the difference between VQE Result and Exact energy?\\n\",\n",
        "          f\"VQE Result: {vqe_result:.5f}\\n\",\n",
        "          f\"Exact Energy: {exact_energies[-1]:.5f}\\n\",\n",
        "      )\n",
        "      self.print_interatomic_distance()    \n",
        "    return vqe_result\n",
        "\n",
        "\n",
        "  def FindEnergyNoisy(self):\n",
        "    exact_energies = []\n",
        "    vqe_energies = []\n",
        "    device = FakeKolkata()\n",
        "    coupling_map = device.configuration().coupling_map\n",
        "    noise_model = NoiseModel.from_backend(device)\n",
        "    noisy_estimator = Estimator(\n",
        "        backend_options={\"coupling_map\": coupling_map, \"noise_model\": noise_model}\n",
        "    )\n",
        "    (qubit_op, num_particles, num_spatial_orbitals, problem, mapper) = get_qubit_op(self.molecule)\n",
        "    result = exact_solver(qubit_op, problem)\n",
        "    exact_energies.append(result.total_energies)\n",
        "\n",
        "    print(\"Exact Result:\", result.total_energies)\n",
        "    optimizer = SPSA(maxiter=100)\n",
        "    var_form = EfficientSU2(qubit_op.num_qubits, entanglement=\"linear\")\n",
        "    vqe = VQE(noisy_estimator, var_form, optimizer)\n",
        "    vqe_calc = vqe.compute_minimum_eigenvalue(qubit_op)\n",
        "    vqe_result = problem.interpret(vqe_calc).total_energies\n",
        "    print(\"VQE Result:\", vqe_result)\n"
      ]
    },
    {
      "cell_type": "markdown",
      "metadata": {},
      "source": [
        "LiH + H2O <-> LiOH + H2 "
      ]
    },
    {
      "cell_type": "code",
      "execution_count": 13,
      "metadata": {
        "id": "mkPbuvV0xmnd"
      },
      "outputs": [],
      "source": [
        "dist = 1\n",
        "LiH_info = MoleculeInfo(\n",
        "        symbols=[\"Li\", \"H\"],\n",
        "        coords=([0.0, 0.0, 0.0], [dist, 0.0, 0.0]),\n",
        "        multiplicity=1,  # = 2*spin + 1\n",
        "        charge=0,\n",
        "    )\n",
        "LiH = MoleculeManager(molecule=LiH_info)\n",
        "\n",
        "# angle: 104 deg.\n",
        "# structure: H - O - H\n",
        "hho_deg = 104\n",
        "hho_info = MoleculeInfo(\n",
        "        symbols=[\"H\", \"O\", \"H\"],\n",
        "        coords=([-dist, 0.0, 0.0], [0.0, 0.0, 0.0], [dist * np.cos(np.deg2rad(180 - hho_deg)), dist * np.sin(np.deg2rad(180 - hho_deg)), 0.0]),\n",
        "        multiplicity=1,  # = 2*spin + 1\n",
        "        charge=0,\n",
        "    )\n",
        "HHO = MoleculeManager(molecule=hho_info)\n"
      ]
    },
    {
      "cell_type": "code",
      "execution_count": 53,
      "metadata": {
        "colab": {
          "base_uri": "https://localhost:8080/"
        },
        "id": "dYOVF5vVF6d9",
        "outputId": "03f899b7-8d3c-457f-97cb-317b89524bfe"
      },
      "outputs": [
        {
          "name": "stdout",
          "output_type": "stream",
          "text": [
            "ansatz.depth = 1\n",
            "num of qubits = 8\n",
            "=== GROUND STATE ENERGY ===\n",
            " \n",
            "* Electronic ground state energy (Hartree): -9.371552953208\n",
            "  - computed part:      -1.174236549311\n",
            "  - FreezeCoreTransformer extracted energy part: -8.197316403898\n",
            "~ Nuclear repulsion energy (Hartree): 1.58753163276\n",
            "> Total ground state energy (Hartree): -7.784021320448\n",
            " \n",
            "=== MEASURED OBSERVABLES ===\n",
            " \n",
            " \n",
            "=== DIPOLE MOMENTS ===\n",
            " \n",
            "~ Nuclear dipole moment (a.u.): [1.88972612  0.0  0.0]\n",
            " \n",
            "### TODO! what's the difference between VQE Result and Exact energy?\n",
            " VQE Result: -7.78402\n",
            " Exact Energy: -7.78402\n",
            "\n",
            "Interatomic Distance:\n",
            "| Li ,  H | =  1.0\n"
          ]
        },
        {
          "data": {
            "text/plain": [
              "-7.7840212919055825"
            ]
          },
          "execution_count": 53,
          "metadata": {},
          "output_type": "execute_result"
        }
      ],
      "source": [
        "LiH.FindEnergyIdeal(print_ansatz=False)"
      ]
    },
    {
      "cell_type": "code",
      "execution_count": 54,
      "metadata": {},
      "outputs": [],
      "source": [
        "# HHO.FindEnergyIdeal(print_ansatz=False)"
      ]
    },
    {
      "cell_type": "markdown",
      "metadata": {},
      "source": [
        "```\n",
        "ansatz.depth = 1\n",
        "num of qubits = 10\n",
        "=== GROUND STATE ENERGY ===\n",
        " \n",
        "* Electronic ground state energy (Hartree): -83.822664243954\n",
        "  - computed part:      -23.255302577322\n",
        "  - FreezeCoreTransformer extracted energy part: -60.567361666632\n",
        "~ Nuclear repulsion energy (Hartree): 8.802603134549\n",
        "> Total ground state energy (Hartree): -75.020061109405\n",
        " \n",
        "=== MEASURED OBSERVABLES ===\n",
        " \n",
        " \n",
        "=== DIPOLE MOMENTS ===\n",
        " \n",
        "~ Nuclear dipole moment (a.u.): [-1.43256  1.83359318  0.0]\n",
        " \n",
        "### TODO! what's the difference between VQE Result and Exact energy?\n",
        " VQE Result: -75.01995\n",
        " Exact Energy: -75.02006\n",
        "\n",
        "Interatomic Distance:\n",
        "| H ,  O | =  1.0\n",
        "| H ,  H | =  1.4142135623730951\n",
        "| O ,  H | =  1.0000000000000002\n",
        "-75.0199492799599\n",
        "```"
      ]
    },
    {
      "cell_type": "code",
      "execution_count": 55,
      "metadata": {},
      "outputs": [],
      "source": [
        "HHO_energy = HHO.FindEnergyIdeal(print_energy=False, print_circuit_info=False, print_ansatz=False)"
      ]
    },
    {
      "cell_type": "markdown",
      "metadata": {},
      "source": [
        "## Summed energy of left handside. Geometry experiments "
      ]
    },
    {
      "cell_type": "markdown",
      "metadata": {},
      "source": [
        "### LiH experiment"
      ]
    },
    {
      "cell_type": "code",
      "execution_count": 68,
      "metadata": {},
      "outputs": [
        {
          "data": {
            "text/plain": [
              "array([ 0.1,  0.3,  0.5,  0.7,  0.9,  1.1,  1.3,  1.5,  1.7,  1.9,  2.1,\n",
              "        2.3,  2.5,  2.7,  2.9,  3.1,  3.3,  3.5,  3.7,  3.9,  4.1,  4.3,\n",
              "        4.5,  4.7,  4.9,  5.2,  5.4,  5.6,  5.8,  6. ,  6.2,  6.4,  6.6,\n",
              "        6.8,  7. ,  7.2,  7.4,  7.6,  7.8,  8. ,  8.2,  8.4,  8.6,  8.8,\n",
              "        9. ,  9.2,  9.4,  9.6,  9.8, 10. ])"
            ]
          },
          "execution_count": 68,
          "metadata": {},
          "output_type": "execute_result"
        }
      ],
      "source": [
        "LiH_distances = np.round(np.linspace(0.1, 10, 50), 1)\n",
        "LiH_distances"
      ]
    },
    {
      "cell_type": "code",
      "execution_count": 69,
      "metadata": {},
      "outputs": [
        {
          "name": "stdout",
          "output_type": "stream",
          "text": [
            "Interatomic Distance:\n",
            "| Li ,  H | =  0.1\n",
            "LiH energy == 2.764504872444965\n",
            "Interatomic Distance:\n",
            "| Li ,  H | =  0.3\n",
            "LiH energy == -5.877241747508933\n",
            "Interatomic Distance:\n",
            "| Li ,  H | =  0.5\n",
            "LiH energy == -7.047909593720682\n",
            "Interatomic Distance:\n",
            "| Li ,  H | =  0.7\n",
            "LiH energy == -7.503999680631518\n",
            "Interatomic Distance:\n",
            "| Li ,  H | =  0.9\n",
            "LiH energy == -7.722834554872036\n",
            "Interatomic Distance:\n",
            "| Li ,  H | =  1.1\n",
            "LiH energy == -7.825202724007655\n",
            "Interatomic Distance:\n",
            "| Li ,  H | =  1.3\n",
            "LiH energy == -7.868904032819081\n",
            "Interatomic Distance:\n",
            "| Li ,  H | =  1.5\n",
            "LiH energy == -7.882139855764646\n",
            "Interatomic Distance:\n",
            "| Li ,  H | =  1.7\n",
            "LiH energy == -7.879197780719734\n",
            "Interatomic Distance:\n",
            "| Li ,  H | =  1.9\n",
            "LiH energy == -7.867988699049308\n",
            "Interatomic Distance:\n",
            "| Li ,  H | =  2.1\n",
            "LiH energy == -7.853196221813301\n",
            "Interatomic Distance:\n",
            "| Li ,  H | =  2.3\n",
            "LiH energy == -7.8377240111245\n",
            "Interatomic Distance:\n",
            "| Li ,  H | =  2.5\n",
            "LiH energy == -7.823426837670701\n",
            "Interatomic Distance:\n",
            "| Li ,  H | =  2.7\n",
            "LiH energy == -7.811420438119239\n",
            "Interatomic Distance:\n",
            "| Li ,  H | =  2.9\n",
            "LiH energy == -7.802146563617429\n",
            "Interatomic Distance:\n",
            "| Li ,  H | =  3.1\n",
            "LiH energy == -7.7954535533066505\n",
            "Interatomic Distance:\n",
            "| Li ,  H | =  3.3\n",
            "LiH energy == -7.790845312819335\n",
            "Interatomic Distance:\n",
            "| Li ,  H | =  3.5\n",
            "LiH energy == -7.787761114714702\n",
            "Interatomic Distance:\n",
            "| Li ,  H | =  3.7\n",
            "LiH energy == -7.785729710956933\n",
            "Interatomic Distance:\n",
            "| Li ,  H | =  3.9\n",
            "LiH energy == -7.7844056218481645\n",
            "Interatomic Distance:\n",
            "| Li ,  H | =  4.1\n",
            "LiH energy == -7.783549582199447\n",
            "Interatomic Distance:\n",
            "| Li ,  H | =  4.3\n",
            "LiH energy == -7.783001632666361\n",
            "Interatomic Distance:\n",
            "| Li ,  H | =  4.5\n",
            "LiH energy == -7.782653317024239\n",
            "Interatomic Distance:\n",
            "| Li ,  H | =  4.7\n",
            "LiH energy == -7.782434334801341\n",
            "Interatomic Distance:\n",
            "| Li ,  H | =  4.9\n",
            "LiH energy == -7.782305912265452\n",
            "Interatomic Distance:\n",
            "| Li ,  H | =  5.2\n",
            "LiH energy == -7.591706392937157\n",
            "Interatomic Distance:\n",
            "| Li ,  H | =  5.4\n",
            "LiH energy == -7.782147023322957\n",
            "Interatomic Distance:\n",
            "| Li ,  H | =  5.6\n",
            "LiH energy == -7.782123816829844\n",
            "Interatomic Distance:\n",
            "| Li ,  H | =  5.8\n",
            "LiH energy == -7.570758982812696\n",
            "Interatomic Distance:\n",
            "| Li ,  H | =  6.0\n",
            "LiH energy == -7.621766538072123\n",
            "Interatomic Distance:\n",
            "| Li ,  H | =  6.2\n",
            "LiH energy == -7.55856688731593\n",
            "Interatomic Distance:\n",
            "| Li ,  H | =  6.4\n",
            "LiH energy == -7.570914745251602\n",
            "Interatomic Distance:\n",
            "| Li ,  H | =  6.6\n",
            "LiH energy == -7.571681386907263\n",
            "Interatomic Distance:\n",
            "| Li ,  H | =  6.8\n",
            "LiH energy == -7.573633220060715\n",
            "Interatomic Distance:\n",
            "| Li ,  H | =  7.0\n",
            "LiH energy == -7.5488937387456385\n",
            "Interatomic Distance:\n",
            "| Li ,  H | =  7.2\n",
            "LiH energy == -7.569663738451015\n",
            "Interatomic Distance:\n",
            "| Li ,  H | =  7.4\n",
            "LiH energy == -7.560359563172707\n",
            "Interatomic Distance:\n",
            "| Li ,  H | =  7.6\n",
            "LiH energy == -7.554603337800005\n",
            "Interatomic Distance:\n",
            "| Li ,  H | =  7.8\n",
            "LiH energy == -7.5717255451395715\n",
            "Interatomic Distance:\n",
            "| Li ,  H | =  8.0\n",
            "LiH energy == -7.354065397045218\n",
            "Interatomic Distance:\n",
            "| Li ,  H | =  8.2\n",
            "LiH energy == -7.562072043327405\n",
            "Interatomic Distance:\n",
            "| Li ,  H | =  8.4\n",
            "LiH energy == -7.356785793860318\n",
            "Interatomic Distance:\n",
            "| Li ,  H | =  8.6\n",
            "LiH energy == -7.52316648602967\n",
            "Interatomic Distance:\n",
            "| Li ,  H | =  8.8\n",
            "LiH energy == -7.572863987163327\n",
            "Interatomic Distance:\n",
            "| Li ,  H | =  9.0\n",
            "LiH energy == -7.352732337251937\n",
            "Interatomic Distance:\n",
            "| Li ,  H | =  9.2\n",
            "LiH energy == -7.350867243525607\n",
            "Interatomic Distance:\n",
            "| Li ,  H | =  9.4\n",
            "LiH energy == -7.350197549827126\n",
            "Interatomic Distance:\n",
            "| Li ,  H | =  9.6\n",
            "LiH energy == -7.349049074512151\n",
            "Interatomic Distance:\n",
            "| Li ,  H | =  9.8\n",
            "LiH energy == -7.30778374620018\n",
            "Interatomic Distance:\n",
            "| Li ,  H | =  10.0\n",
            "LiH energy == -7.306685007499073\n"
          ]
        }
      ],
      "source": [
        "LiH_E = []\n",
        "total_E_left = []\n",
        "\n",
        "for dist in LiH_distances:\n",
        "  LiH.SetDualAtomDist(dist)\n",
        "  LiH.print_interatomic_distance()\n",
        "  LiH_E_tmp = LiH.FindEnergyIdeal(print_energy=False, print_circuit_info=False, print_ansatz=False)\n",
        "  print(f'LiH energy == {LiH_E_tmp}')\n",
        "  LiH_E.append(LiH_E_tmp)\n",
        "  total_E_left.append(LiH_E_tmp + HHO_energy)\n",
        "                                        "
      ]
    },
    {
      "cell_type": "markdown",
      "metadata": {},
      "source": [
        "## Save data to ./data"
      ]
    },
    {
      "cell_type": "code",
      "execution_count": 70,
      "metadata": {},
      "outputs": [],
      "source": [
        "import pandas as pd\n",
        "import matplotlib.pyplot as plt"
      ]
    },
    {
      "cell_type": "code",
      "execution_count": 83,
      "metadata": {},
      "outputs": [
        {
          "name": "stderr",
          "output_type": "stream",
          "text": [
            "No artists with labels found to put in legend.  Note that artists whose label start with an underscore are ignored when legend() is called with no argument.\n"
          ]
        },
        {
          "data": {
            "image/png": "[encoded data removed]",
            "text/plain": [
              "<Figure size 1152x576 with 1 Axes>"
            ]
          },
          "metadata": {
            "needs_background": "light"
          },
          "output_type": "display_data"
        }
      ],
      "source": [
        "plt.figure(figsize=(16, 8))  \n",
        "plt.plot(LiH_distances, total_E_left, linestyle='dashdot')\n",
        "plt.xlabel('LiH atomic distance, [measurement]')\n",
        "plt.ylabel('Left side total E (summed)')\n",
        "plt.title('Left side energy on LiH distances')\n",
        "plt.legend()\n",
        "plt.grid()\n",
        "plt.savefig('plots/LiH_distances_left.png')\n",
        "plt.show()"
      ]
    },
    {
      "cell_type": "code",
      "execution_count": 14,
      "metadata": {},
      "outputs": [
        {
          "ename": "NameError",
          "evalue": "name 'pd' is not defined",
          "output_type": "error",
          "traceback": [
            "\u001b[0;31m---------------------------------------------------------------------------\u001b[0m",
            "\u001b[0;31mNameError\u001b[0m                                 Traceback (most recent call last)",
            "Input \u001b[0;32mIn [14]\u001b[0m, in \u001b[0;36m<cell line: 1>\u001b[0;34m()\u001b[0m\n\u001b[0;32m----> 1\u001b[0m LiH_distance_experiment_dataframe \u001b[38;5;241m=\u001b[39m \u001b[43mpd\u001b[49m\u001b[38;5;241m.\u001b[39mDataFrame({\n\u001b[1;32m      2\u001b[0m     \u001b[38;5;124m'\u001b[39m\u001b[38;5;124mdistance\u001b[39m\u001b[38;5;124m'\u001b[39m: LiH_distances,\n\u001b[1;32m      3\u001b[0m     \u001b[38;5;124m'\u001b[39m\u001b[38;5;124mLiH_E\u001b[39m\u001b[38;5;124m'\u001b[39m: LiH_E,\n\u001b[1;32m      4\u001b[0m     \u001b[38;5;124m'\u001b[39m\u001b[38;5;124mleft_side_E\u001b[39m\u001b[38;5;124m'\u001b[39m: total_E_left,\n\u001b[1;32m      5\u001b[0m })\n\u001b[1;32m      6\u001b[0m LiH_distance_experiment_dataframe\u001b[38;5;241m.\u001b[39mto_csv(\u001b[38;5;124m'\u001b[39m\u001b[38;5;124m./data/LiH_distance_experiment.csv\u001b[39m\u001b[38;5;124m'\u001b[39m)\n",
            "\u001b[0;31mNameError\u001b[0m: name 'pd' is not defined"
          ]
        }
      ],
      "source": [
        "LiH_distance_experiment_dataframe = pd.DataFrame({\n",
        "    'distance': LiH_distances,\n",
        "    'LiH_E': LiH_E,\n",
        "    'left_side_E': total_E_left,\n",
        "})\n",
        "LiH_distance_experiment_dataframe.to_csv('./data/LiH_distance_experiment.csv')"
      ]
    },
    {
      "cell_type": "markdown",
      "metadata": {},
      "source": [
        "### ${H_2O}$ experiment"
      ]
    },
    {
      "cell_type": "code",
      "execution_count": 15,
      "metadata": {},
      "outputs": [],
      "source": [
        "LiH.SetDualAtomDist(1)\n",
        "LiH_energy = LiH.FindEnergyIdeal(print_energy=False, print_circuit_info=False, print_ansatz=False)"
      ]
    },
    {
      "cell_type": "code",
      "execution_count": 16,
      "metadata": {},
      "outputs": [
        {
          "data": {
            "text/plain": [
              "array([ 0.1,  1.2,  2.3,  3.4,  4.5,  5.6,  6.7,  7.8,  8.9, 10. ])"
            ]
          },
          "execution_count": 16,
          "metadata": {},
          "output_type": "execute_result"
        }
      ],
      "source": [
        "HHO_distances = np.round(np.linspace(0.1, 10, 10), 1)\n",
        "HHO_distances"
      ]
    },
    {
      "cell_type": "code",
      "execution_count": 92,
      "metadata": {},
      "outputs": [
        {
          "name": "stdout",
          "output_type": "stream",
          "text": [
            "Interatomic Distance:\n",
            "| H ,  O | =  0.1\n",
            "| H ,  H | =  0.14142\n",
            "| O ,  H | =  0.1\n",
            "HHO energy == -20.475763958288155\n",
            "Interatomic Distance:\n",
            "| H ,  O | =  1.2\n",
            "| H ,  H | =  1.69706\n",
            "| O ,  H | =  1.2\n",
            "HHO energy == -74.9852543182796\n",
            "Interatomic Distance:\n",
            "| H ,  O | =  2.3\n",
            "| H ,  H | =  3.25269\n",
            "| O ,  H | =  2.3\n",
            "HHO energy == -74.74001988622004\n",
            "Interatomic Distance:\n",
            "| H ,  O | =  3.4\n",
            "| H ,  H | =  4.80833\n",
            "| O ,  H | =  3.4\n"
          ]
        },
        {
          "ename": "ArpackNoConvergence",
          "evalue": "ARPACK error -1: No convergence (10241 iterations, 0/1 eigenvectors converged) [ARPACK error -14: ZNAUPD did not find any eigenvalues to sufficient accuracy.]",
          "output_type": "error",
          "traceback": [
            "\u001b[0;31m---------------------------------------------------------------------------\u001b[0m",
            "\u001b[0;31mArpackNoConvergence\u001b[0m                       Traceback (most recent call last)",
            "Input \u001b[0;32mIn [92]\u001b[0m, in \u001b[0;36m<cell line: 4>\u001b[0;34m()\u001b[0m\n\u001b[1;32m      5\u001b[0m HHO\u001b[38;5;241m.\u001b[39mSetAtomCoords(([\u001b[38;5;241m-\u001b[39mdist, \u001b[38;5;241m0.0\u001b[39m, \u001b[38;5;241m0.0\u001b[39m], [\u001b[38;5;241m0.0\u001b[39m, \u001b[38;5;241m0.0\u001b[39m, \u001b[38;5;241m0.0\u001b[39m], [dist \u001b[38;5;241m*\u001b[39m np\u001b[38;5;241m.\u001b[39mcos(np\u001b[38;5;241m.\u001b[39mdeg2rad(\u001b[38;5;241m180\u001b[39m \u001b[38;5;241m-\u001b[39m hho_deg)), dist \u001b[38;5;241m*\u001b[39m np\u001b[38;5;241m.\u001b[39msin(np\u001b[38;5;241m.\u001b[39mdeg2rad(\u001b[38;5;241m180\u001b[39m \u001b[38;5;241m-\u001b[39m hho_deg)), \u001b[38;5;241m0.0\u001b[39m]))\n\u001b[1;32m      6\u001b[0m HHO\u001b[38;5;241m.\u001b[39mprint_interatomic_distance()\n\u001b[0;32m----> 7\u001b[0m HHO_E_tmp \u001b[38;5;241m=\u001b[39m \u001b[43mHHO\u001b[49m\u001b[38;5;241;43m.\u001b[39;49m\u001b[43mFindEnergyIdeal\u001b[49m\u001b[43m(\u001b[49m\u001b[43mprint_energy\u001b[49m\u001b[38;5;241;43m=\u001b[39;49m\u001b[38;5;28;43;01mFalse\u001b[39;49;00m\u001b[43m,\u001b[49m\u001b[43m \u001b[49m\u001b[43mprint_circuit_info\u001b[49m\u001b[38;5;241;43m=\u001b[39;49m\u001b[38;5;28;43;01mFalse\u001b[39;49;00m\u001b[43m,\u001b[49m\u001b[43m \u001b[49m\u001b[43mprint_ansatz\u001b[49m\u001b[38;5;241;43m=\u001b[39;49m\u001b[38;5;28;43;01mFalse\u001b[39;49;00m\u001b[43m)\u001b[49m\n\u001b[1;32m      8\u001b[0m \u001b[38;5;28mprint\u001b[39m(\u001b[38;5;124mf\u001b[39m\u001b[38;5;124m'\u001b[39m\u001b[38;5;124mHHO energy == \u001b[39m\u001b[38;5;132;01m{\u001b[39;00mHHO_E_tmp\u001b[38;5;132;01m}\u001b[39;00m\u001b[38;5;124m'\u001b[39m)\n\u001b[1;32m      9\u001b[0m HHO_E\u001b[38;5;241m.\u001b[39mappend(HHO_E_tmp)\n",
            "Input \u001b[0;32mIn [51]\u001b[0m, in \u001b[0;36mMoleculeManager.FindEnergyIdeal\u001b[0;34m(self, print_energy, print_ansatz, print_circuit_info)\u001b[0m\n\u001b[1;32m     46\u001b[0m noiseless_estimator \u001b[38;5;241m=\u001b[39m Estimator(approximation\u001b[38;5;241m=\u001b[39m\u001b[38;5;28;01mTrue\u001b[39;00m)\n\u001b[1;32m     47\u001b[0m (qubit_op, num_particles, num_spatial_orbitals, problem, mapper) \u001b[38;5;241m=\u001b[39m get_qubit_op(\u001b[38;5;28mself\u001b[39m\u001b[38;5;241m.\u001b[39mmolecule)\n\u001b[0;32m---> 49\u001b[0m result \u001b[38;5;241m=\u001b[39m \u001b[43mexact_solver\u001b[49m\u001b[43m(\u001b[49m\u001b[43mqubit_op\u001b[49m\u001b[43m,\u001b[49m\u001b[43m \u001b[49m\u001b[43mproblem\u001b[49m\u001b[43m)\u001b[49m\n\u001b[1;32m     50\u001b[0m exact_energies\u001b[38;5;241m.\u001b[39mappend(result\u001b[38;5;241m.\u001b[39mtotal_energies[\u001b[38;5;241m0\u001b[39m]\u001b[38;5;241m.\u001b[39mreal)\n\u001b[1;32m     51\u001b[0m init_state \u001b[38;5;241m=\u001b[39m HartreeFock(num_spatial_orbitals, num_particles, mapper)\n",
            "Input \u001b[0;32mIn [50]\u001b[0m, in \u001b[0;36mexact_solver\u001b[0;34m(qubit_op, problem)\u001b[0m\n\u001b[1;32m      1\u001b[0m \u001b[38;5;28;01mdef\u001b[39;00m \u001b[38;5;21mexact_solver\u001b[39m(qubit_op, problem):\n\u001b[0;32m----> 2\u001b[0m     sol \u001b[38;5;241m=\u001b[39m \u001b[43mNumPyMinimumEigensolver\u001b[49m\u001b[43m(\u001b[49m\u001b[43m)\u001b[49m\u001b[38;5;241;43m.\u001b[39;49m\u001b[43mcompute_minimum_eigenvalue\u001b[49m\u001b[43m(\u001b[49m\u001b[43mqubit_op\u001b[49m\u001b[43m)\u001b[49m\n\u001b[1;32m      3\u001b[0m     result \u001b[38;5;241m=\u001b[39m problem\u001b[38;5;241m.\u001b[39minterpret(sol)\n\u001b[1;32m      4\u001b[0m     \u001b[38;5;28;01mreturn\u001b[39;00m result\n",
            "File \u001b[0;32m~/anaconda3/lib/python3.9/site-packages/qiskit_algorithms/minimum_eigensolvers/numpy_minimum_eigensolver.py:80\u001b[0m, in \u001b[0;36mNumPyMinimumEigensolver.compute_minimum_eigenvalue\u001b[0;34m(self, operator, aux_operators)\u001b[0m\n\u001b[1;32m     74\u001b[0m \u001b[38;5;28;01mdef\u001b[39;00m \u001b[38;5;21mcompute_minimum_eigenvalue\u001b[39m(\n\u001b[1;32m     75\u001b[0m     \u001b[38;5;28mself\u001b[39m,\n\u001b[1;32m     76\u001b[0m     operator: BaseOperator,\n\u001b[1;32m     77\u001b[0m     aux_operators: ListOrDict[BaseOperator] \u001b[38;5;241m|\u001b[39m \u001b[38;5;28;01mNone\u001b[39;00m \u001b[38;5;241m=\u001b[39m \u001b[38;5;28;01mNone\u001b[39;00m,\n\u001b[1;32m     78\u001b[0m ) \u001b[38;5;241m-\u001b[39m\u001b[38;5;241m>\u001b[39m NumPyMinimumEigensolverResult:\n\u001b[1;32m     79\u001b[0m     \u001b[38;5;28msuper\u001b[39m()\u001b[38;5;241m.\u001b[39mcompute_minimum_eigenvalue(operator, aux_operators)\n\u001b[0;32m---> 80\u001b[0m     eigensolver_result \u001b[38;5;241m=\u001b[39m \u001b[38;5;28;43mself\u001b[39;49m\u001b[38;5;241;43m.\u001b[39;49m\u001b[43m_eigensolver\u001b[49m\u001b[38;5;241;43m.\u001b[39;49m\u001b[43mcompute_eigenvalues\u001b[49m\u001b[43m(\u001b[49m\u001b[43moperator\u001b[49m\u001b[43m,\u001b[49m\u001b[43m \u001b[49m\u001b[43maux_operators\u001b[49m\u001b[43m)\u001b[49m\n\u001b[1;32m     81\u001b[0m     result \u001b[38;5;241m=\u001b[39m NumPyMinimumEigensolverResult()\n\u001b[1;32m     82\u001b[0m     \u001b[38;5;28;01mif\u001b[39;00m eigensolver_result\u001b[38;5;241m.\u001b[39meigenvalues \u001b[38;5;129;01mis\u001b[39;00m \u001b[38;5;129;01mnot\u001b[39;00m \u001b[38;5;28;01mNone\u001b[39;00m \u001b[38;5;129;01mand\u001b[39;00m \u001b[38;5;28mlen\u001b[39m(eigensolver_result\u001b[38;5;241m.\u001b[39meigenvalues) \u001b[38;5;241m>\u001b[39m \u001b[38;5;241m0\u001b[39m:\n",
            "File \u001b[0;32m~/anaconda3/lib/python3.9/site-packages/qiskit_algorithms/eigensolvers/numpy_eigensolver.py:258\u001b[0m, in \u001b[0;36mNumPyEigensolver.compute_eigenvalues\u001b[0;34m(self, operator, aux_operators)\u001b[0m\n\u001b[1;32m    254\u001b[0m \u001b[38;5;28;01mif\u001b[39;00m \u001b[38;5;28mself\u001b[39m\u001b[38;5;241m.\u001b[39m_filter_criterion:\n\u001b[1;32m    255\u001b[0m     \u001b[38;5;66;03m# need to consider all elements if a filter is set\u001b[39;00m\n\u001b[1;32m    256\u001b[0m     \u001b[38;5;28mself\u001b[39m\u001b[38;5;241m.\u001b[39m_k \u001b[38;5;241m=\u001b[39m \u001b[38;5;241m2\u001b[39m\u001b[38;5;241m*\u001b[39m\u001b[38;5;241m*\u001b[39moperator\u001b[38;5;241m.\u001b[39mnum_qubits\n\u001b[0;32m--> 258\u001b[0m eigvals, eigvecs \u001b[38;5;241m=\u001b[39m \u001b[38;5;28;43mself\u001b[39;49m\u001b[38;5;241;43m.\u001b[39;49m\u001b[43m_solve\u001b[49m\u001b[43m(\u001b[49m\u001b[43moperator\u001b[49m\u001b[43m)\u001b[49m\n\u001b[1;32m    260\u001b[0m \u001b[38;5;66;03m# compute energies before filtering, as this also evaluates the aux operators\u001b[39;00m\n\u001b[1;32m    261\u001b[0m \u001b[38;5;28;01mif\u001b[39;00m aux_operators \u001b[38;5;129;01mis\u001b[39;00m \u001b[38;5;129;01mnot\u001b[39;00m \u001b[38;5;28;01mNone\u001b[39;00m:\n",
            "File \u001b[0;32m~/anaconda3/lib/python3.9/site-packages/qiskit_algorithms/eigensolvers/numpy_eigensolver.py:143\u001b[0m, in \u001b[0;36mNumPyEigensolver._solve\u001b[0;34m(self, operator)\u001b[0m\n\u001b[1;32m    141\u001b[0m             eigval, eigvec \u001b[38;5;241m=\u001b[39m \u001b[38;5;28mself\u001b[39m\u001b[38;5;241m.\u001b[39m_solve_dense(operator\u001b[38;5;241m.\u001b[39mto_matrix())\n\u001b[1;32m    142\u001b[0m         \u001b[38;5;28;01melse\u001b[39;00m:\n\u001b[0;32m--> 143\u001b[0m             eigval, eigvec \u001b[38;5;241m=\u001b[39m \u001b[38;5;28;43mself\u001b[39;49m\u001b[38;5;241;43m.\u001b[39;49m\u001b[43m_solve_sparse\u001b[49m\u001b[43m(\u001b[49m\u001b[43mop_matrix\u001b[49m\u001b[43m,\u001b[49m\u001b[43m \u001b[49m\u001b[38;5;28;43mself\u001b[39;49m\u001b[38;5;241;43m.\u001b[39;49m\u001b[43m_k\u001b[49m\u001b[43m)\u001b[49m\n\u001b[1;32m    144\u001b[0m \u001b[38;5;28;01melse\u001b[39;00m:\n\u001b[1;32m    145\u001b[0m     \u001b[38;5;66;03m# Sparse SciPy matrix not supported, use dense NumPy computation.\u001b[39;00m\n\u001b[1;32m    146\u001b[0m     eigval, eigvec \u001b[38;5;241m=\u001b[39m \u001b[38;5;28mself\u001b[39m\u001b[38;5;241m.\u001b[39m_solve_dense(operator\u001b[38;5;241m.\u001b[39mto_matrix())\n",
            "File \u001b[0;32m~/anaconda3/lib/python3.9/site-packages/qiskit_algorithms/eigensolvers/numpy_eigensolver.py:159\u001b[0m, in \u001b[0;36mNumPyEigensolver._solve_sparse\u001b[0;34m(op_matrix, k)\u001b[0m\n\u001b[1;32m    157\u001b[0m     \u001b[38;5;28;01mreturn\u001b[39;00m scisparse\u001b[38;5;241m.\u001b[39mlinalg\u001b[38;5;241m.\u001b[39meigsh(op_matrix, k\u001b[38;5;241m=\u001b[39mk, which\u001b[38;5;241m=\u001b[39m\u001b[38;5;124m\"\u001b[39m\u001b[38;5;124mSA\u001b[39m\u001b[38;5;124m\"\u001b[39m)\n\u001b[1;32m    158\u001b[0m \u001b[38;5;28;01melse\u001b[39;00m:\n\u001b[0;32m--> 159\u001b[0m     \u001b[38;5;28;01mreturn\u001b[39;00m \u001b[43mscisparse\u001b[49m\u001b[38;5;241;43m.\u001b[39;49m\u001b[43mlinalg\u001b[49m\u001b[38;5;241;43m.\u001b[39;49m\u001b[43meigs\u001b[49m\u001b[43m(\u001b[49m\u001b[43mop_matrix\u001b[49m\u001b[43m,\u001b[49m\u001b[43m \u001b[49m\u001b[43mk\u001b[49m\u001b[38;5;241;43m=\u001b[39;49m\u001b[43mk\u001b[49m\u001b[43m,\u001b[49m\u001b[43m \u001b[49m\u001b[43mwhich\u001b[49m\u001b[38;5;241;43m=\u001b[39;49m\u001b[38;5;124;43m\"\u001b[39;49m\u001b[38;5;124;43mSR\u001b[39;49m\u001b[38;5;124;43m\"\u001b[39;49m\u001b[43m)\u001b[49m\n",
            "File \u001b[0;32m~/anaconda3/lib/python3.9/site-packages/scipy/sparse/linalg/_eigen/arpack/arpack.py:1355\u001b[0m, in \u001b[0;36meigs\u001b[0;34m(A, k, M, sigma, which, v0, ncv, maxiter, tol, return_eigenvectors, Minv, OPinv, OPpart)\u001b[0m\n\u001b[1;32m   1353\u001b[0m \u001b[38;5;28;01mwith\u001b[39;00m _ARPACK_LOCK:\n\u001b[1;32m   1354\u001b[0m     \u001b[38;5;28;01mwhile\u001b[39;00m \u001b[38;5;129;01mnot\u001b[39;00m params\u001b[38;5;241m.\u001b[39mconverged:\n\u001b[0;32m-> 1355\u001b[0m         \u001b[43mparams\u001b[49m\u001b[38;5;241;43m.\u001b[39;49m\u001b[43miterate\u001b[49m\u001b[43m(\u001b[49m\u001b[43m)\u001b[49m\n\u001b[1;32m   1357\u001b[0m     \u001b[38;5;28;01mreturn\u001b[39;00m params\u001b[38;5;241m.\u001b[39mextract(return_eigenvectors)\n",
            "File \u001b[0;32m~/anaconda3/lib/python3.9/site-packages/scipy/sparse/linalg/_eigen/arpack/arpack.py:760\u001b[0m, in \u001b[0;36m_UnsymmetricArpackParams.iterate\u001b[0;34m(self)\u001b[0m\n\u001b[1;32m    758\u001b[0m     \u001b[38;5;28;01mpass\u001b[39;00m\n\u001b[1;32m    759\u001b[0m \u001b[38;5;28;01melif\u001b[39;00m \u001b[38;5;28mself\u001b[39m\u001b[38;5;241m.\u001b[39minfo \u001b[38;5;241m==\u001b[39m \u001b[38;5;241m1\u001b[39m:\n\u001b[0;32m--> 760\u001b[0m     \u001b[38;5;28;43mself\u001b[39;49m\u001b[38;5;241;43m.\u001b[39;49m\u001b[43m_raise_no_convergence\u001b[49m\u001b[43m(\u001b[49m\u001b[43m)\u001b[49m\n\u001b[1;32m    761\u001b[0m \u001b[38;5;28;01melse\u001b[39;00m:\n\u001b[1;32m    762\u001b[0m     \u001b[38;5;28;01mraise\u001b[39;00m ArpackError(\u001b[38;5;28mself\u001b[39m\u001b[38;5;241m.\u001b[39minfo, infodict\u001b[38;5;241m=\u001b[39m\u001b[38;5;28mself\u001b[39m\u001b[38;5;241m.\u001b[39miterate_infodict)\n",
            "File \u001b[0;32m~/anaconda3/lib/python3.9/site-packages/scipy/sparse/linalg/_eigen/arpack/arpack.py:377\u001b[0m, in \u001b[0;36m_ArpackParams._raise_no_convergence\u001b[0;34m(self)\u001b[0m\n\u001b[1;32m    375\u001b[0m     vec \u001b[38;5;241m=\u001b[39m np\u001b[38;5;241m.\u001b[39mzeros((\u001b[38;5;28mself\u001b[39m\u001b[38;5;241m.\u001b[39mn, \u001b[38;5;241m0\u001b[39m))\n\u001b[1;32m    376\u001b[0m     k_ok \u001b[38;5;241m=\u001b[39m \u001b[38;5;241m0\u001b[39m\n\u001b[0;32m--> 377\u001b[0m \u001b[38;5;28;01mraise\u001b[39;00m ArpackNoConvergence(msg \u001b[38;5;241m%\u001b[39m (num_iter, k_ok, \u001b[38;5;28mself\u001b[39m\u001b[38;5;241m.\u001b[39mk), ev, vec)\n",
            "\u001b[0;31mArpackNoConvergence\u001b[0m: ARPACK error -1: No convergence (10241 iterations, 0/1 eigenvectors converged) [ARPACK error -14: ZNAUPD did not find any eigenvalues to sufficient accuracy.]"
          ]
        }
      ],
      "source": [
        "# HHO_E = []\n",
        "# total_E_left_2 = []\n",
        "\n",
        "# for dist in HHO_distances:\n",
        "#   HHO.SetAtomCoords(([-dist, 0.0, 0.0], [0.0, 0.0, 0.0], [dist * np.cos(np.deg2rad(180 - hho_deg)), dist * np.sin(np.deg2rad(180 - hho_deg)), 0.0]))\n",
        "#   HHO.print_interatomic_distance()\n",
        "#   HHO_E_tmp = HHO.FindEnergyIdeal(print_energy=False, print_circuit_info=False, print_ansatz=False)\n",
        "#   print(f'HHO energy == {HHO_E_tmp}')\n",
        "#   HHO_E.append(HHO_E_tmp)\n",
        "#   total_E_left_2.append(HHO_E_tmp + LiH_energy)\n",
        "                                        "
      ]
    },
    {
      "cell_type": "code",
      "execution_count": 93,
      "metadata": {},
      "outputs": [
        {
          "data": {
            "text/plain": [
              "[-28.25978525025332, -82.76927561024476, -82.5240411781852]"
            ]
          },
          "execution_count": 93,
          "metadata": {},
          "output_type": "execute_result"
        }
      ],
      "source": [
        "# total_E_left_2"
      ]
    },
    {
      "cell_type": "markdown",
      "metadata": {},
      "source": [
        "[-28.25978525025332, -82.76927561024476, -82.5240411781852]"
      ]
    },
    {
      "cell_type": "code",
      "execution_count": 17,
      "metadata": {},
      "outputs": [
        {
          "name": "stdout",
          "output_type": "stream",
          "text": [
            "HHO_distances = array([0.8       , 0.83333333, 0.86666667, 0.9       , 0.93333333,\n",
            "       0.96666667, 1.        , 1.03333333, 1.06666667, 1.1       ])\n",
            "Interatomic Distance:\n",
            "| H ,  O | =  0.8\n",
            "| H ,  H | =  1.26082\n",
            "| O ,  H | =  0.8\n"
          ]
        }
      ],
      "source": [
        "# optimum = 0.958\n",
        "# energy -76.4\n",
        "HHO_distances = np.linspace(0.8, 1.1, 10)\n",
        "print(f'{HHO_distances = }')\n",
        "\n",
        "HHO_E = []\n",
        "total_E_left_3 = []\n",
        "\n",
        "for dist in HHO_distances:\n",
        "  HHO.SetAtomCoords(([-dist, 0.0, 0.0], [0.0, 0.0, 0.0], [dist * np.cos(np.deg2rad(180 - hho_deg)), dist * np.sin(np.deg2rad(180 - hho_deg)), 0.0]))\n",
        "  # HHO.SetAtomCoords(([-dist, 0.0, 0.0], [0.0, 0.0, 0.0], [dist, 0.0, 0.0]))\n",
        "  HHO.print_interatomic_distance()\n",
        "  HHO_E_tmp = HHO.FindEnergyIdeal(print_energy=False, print_circuit_info=False, print_ansatz=False)\n",
        "  print(f'HHO energy == {HHO_E_tmp}')\n",
        "  HHO_E.append(HHO_E_tmp)\n",
        "  total_E_left_3.append(HHO_E_tmp + LiH_energy)\n",
        "                                        "
      ]
    },
    {
      "cell_type": "markdown",
      "metadata": {},
      "source": [
        "### Mixed left side results"
      ]
    },
    {
      "cell_type": "code",
      "execution_count": null,
      "metadata": {},
      "outputs": [],
      "source": []
    }
  ],
  "metadata": {
    "colab": {
      "provenance": []
    },
    "kernelspec": {
      "display_name": "Python 3",
      "name": "python3"
    },
    "language_info": {
      "codemirror_mode": {
        "name": "ipython",
        "version": 3
      },
      "file_extension": ".py",
      "mimetype": "text/x-python",
      "name": "python",
      "nbconvert_exporter": "python",
      "pygments_lexer": "ipython3",
      "version": "3.9.12"
    }
  },
  "nbformat": 4,
  "nbformat_minor": 0
}
